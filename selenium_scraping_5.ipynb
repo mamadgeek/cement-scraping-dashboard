{
 "cells": [
  {
   "cell_type": "code",
   "execution_count": 105,
   "metadata": {
    "ExecuteTime": {
     "end_time": "2024-01-14T16:23:36.505552900Z",
     "start_time": "2024-01-14T16:23:36.419963900Z"
    }
   },
   "outputs": [],
   "source": [
    "\n",
    "# ! pip install sqlalchemy\n",
    "# ! pip install plotly\n",
    "\n"
   ]
  },
  {
   "cell_type": "code",
   "execution_count": 125,
   "metadata": {
    "ExecuteTime": {
     "end_time": "2024-01-14T16:23:36.506553200Z",
     "start_time": "2024-01-14T16:23:36.429352400Z"
    },
    "collapsed": false,
    "jupyter": {
     "outputs_hidden": false
    }
   },
   "outputs": [],
   "source": [
    "# from functions_5040_3_6 import *\n",
    "import io\n",
    "import  pandas as pd\n",
    "import sqlite3\n",
    "import traceback\n",
    "from tkinter import *\n",
    "from tkinter import messagebox  # Add this line to import messagebox module\n",
    "\n",
    "\n",
    "\n",
    "import selenium\n",
    "import schedule\n",
    "\n",
    "from time import sleep\n",
    "import os\n",
    "\n",
    "import sys\n",
    "\n",
    "\n",
    "import  selenium\n",
    "\n",
    "import  selenium.webdriver  # از وبدرایور وایر برو بگیر\n",
    "from seleniumwire import webdriver  #AttributeError: module 'OpenSSL.SSL' has no attribute 'SSLv2_METHOD' > pip install pyopenssl==22.0.0 ,pip install cryptography==38.0.4\n",
    "# -wire-4.6.0\n",
    "\n",
    "from  selenium.webdriver.support import expected_conditions as EC\n",
    "from  selenium.webdriver.support.select import Select\n",
    "from  selenium.webdriver.support.ui import WebDriverWait\n",
    "from selenium.webdriver.chrome.service import Service\n",
    "\n",
    "\n",
    "from  selenium.webdriver.common.by import By\n",
    "from  selenium.webdriver.common.keys import Keys\n",
    "from selenium.webdriver.common.action_chains import ActionChains\n",
    "from  selenium.webdriver.common.alert import  Alert\n",
    "from webdriver_manager.chrome import ChromeDriverManager\n",
    "\n",
    "from selenium.common.exceptions import NoSuchElementException ,TimeoutException,WebDriverException ,StaleElementReferenceException\n",
    "\n",
    "from  datetime import *\n",
    "import jdatetime\n",
    "\n",
    "import json\n",
    "import  requests\n",
    "\n"
   ]
  },
  {
   "cell_type": "code",
   "execution_count": null,
   "metadata": {},
   "outputs": [],
   "source": [
    "the_start_date=\"1402/11/01\"\n",
    "\n",
    "\n",
    "# END DAEمیشه  اخرین تاریخ  بروز رسانی . نه به ساعت بلکه به روز "
   ]
  },
  {
   "cell_type": "code",
   "execution_count": null,
   "metadata": {},
   "outputs": [],
   "source": []
  },
  {
   "cell_type": "code",
   "execution_count": null,
   "metadata": {},
   "outputs": [],
   "source": []
  },
  {
   "cell_type": "code",
   "execution_count": 126,
   "metadata": {},
   "outputs": [],
   "source": [
    "\n",
    "the_export=f\"\"\n",
    "the_table_1='concreteTB'\n",
    "the_database1='concreteDB9'\n",
    "the_site=\"https://www.ime.co.ir/arze.html\"\n",
    "\n",
    "# E:\\N\\1-namjoo5040\\robot_software\\chrome_port\n",
    "# user_chrome_directory\n",
    "\n",
    "# وقت یه کروم میسازیم\n",
    "the_port=8080\n",
    "# user_chrome_directory\n",
    "# chrome_driver_directory\n",
    "\n",
    "# the_start_date=\"1402/01/01\"\n",
    "# the_end_date=\"1402/10/30\"\n",
    "\n",
    "\n"
   ]
  },
  {
   "cell_type": "code",
   "execution_count": 127,
   "metadata": {
    "ExecuteTime": {
     "end_time": "2024-01-14T16:23:36.575027Z",
     "start_time": "2024-01-14T16:23:36.432876200Z"
    },
    "collapsed": false,
    "jupyter": {
     "outputs_hidden": false
    }
   },
   "outputs": [],
   "source": [
    "\n",
    "\n",
    "def resource_path(relative_path):\n",
    "    \"\"\" Get absolute path to resource, works for dev and for PyInstaller \"\"\"\n",
    "    try:\n",
    "        # PyInstaller creates a temp folder and stores path in _MEIPASS\n",
    "        # MyExecutable's In-place Temporary PASS\n",
    "        base_path = sys._MEIPASS2\n",
    "    except Exception:\n",
    "        base_path = os.path.abspath(\".\")\n",
    "    return os.path.join(base_path, relative_path)\n",
    "\n",
    "\n"
   ]
  },
  {
   "cell_type": "code",
   "execution_count": 128,
   "metadata": {
    "ExecuteTime": {
     "end_time": "2024-01-14T16:23:36.661489400Z",
     "start_time": "2024-01-14T16:23:36.444082400Z"
    },
    "collapsed": false,
    "jupyter": {
     "outputs_hidden": false
    }
   },
   "outputs": [],
   "source": [
    "# # i_amـin=\"home\"\n",
    "# # i_amـin=\"work_gozareshat\"\n",
    "# # دایرکتوری کرومی که داره اجرا میشه را باید بزنیم که ادامه بشه بده و هر بار از اول نباشه\n",
    "# # path = os.path.join(os.getcwd(), 'chromedriver')\n",
    "# # version_chrome_and_driver='1206'\n",
    "# # chrome_driver_directory_work = resource_path (\"chromedriver\\\\chromedriver.exe\")\n",
    "\n",
    "# # chrome_driver_directory_home=r\"E:\\\\.python and every thing\\\\data_5040\\\\1-MIS_SELENIUM\\\\chromedrivers\\\\chromedriver-win64-119.0.6045.105-win64.exe\"\n",
    "\n",
    "# # user_chrome_directory_work=resource_path(os.path.abspath(\".\")+\"\\\\chrome_user_dir\")\n",
    "# user_chrome_directory_work = resource_path(os.path.join(os.path.abspath(\".\"), \"chrome_user_dir\"))\n",
    "# # user_chrome_directory_home =\"E:\\\\.python and every thing\\\\data_5040\\\\1-MIS_SELENIUM\\\\chrome_port\\\\chrome_port/\"\n",
    "\n",
    "# # the_destination_home=\"E:\\\\.python and every thing\\\\data_5040\\\\1-MIS_SELENIUM/os_excels\"\n",
    "# the_destination_work = os.path.abspath(\".\")  # خروجی کجا باشه\n",
    "\n",
    "# # چه خروجی هایی را میخوایم\n",
    "# # if \"home\" == i_amـin:\n",
    "# #     # os.chdir(the_destination_work)\n",
    "# #     # print(os.getcwd()) # اینجا کجاست\n",
    "# #     # print(os.path.abspath(\".\"))  # اینجا کجاست\n",
    "# #     chrome_driver_directory=chrome_driver_directory_home\n",
    "# #     user_chrome_directory=user_chrome_directory_home\n",
    "# #     the_destination=the_destination_home\n",
    "# if \"work_gozareshat\" == i_amـin:\n",
    "#     # os.chdir(the_destination_work)\n",
    "#     # print(os.getcwd())  # اینجا کجاست\n",
    "#     # print(os.path.abspath(\".\"))  # اینجا کجاست\n",
    "#     chrome_driver_directory=chrome_driver_directory_work\n",
    "#     user_chrome_directory=user_chrome_directory_work\n",
    "#     the_destination=the_destination_work\n",
    "\n",
    "\n",
    "# # یوزر و پسوردی که اول لاگین بشه\n",
    "# # نامجو\n",
    "\n",
    "# # پورتی که ازش استفاده کنیم برای کروم\n",
    "\n"
   ]
  },
  {
   "cell_type": "code",
   "execution_count": 129,
   "metadata": {
    "ExecuteTime": {
     "end_time": "2024-01-14T16:23:40.272067100Z",
     "start_time": "2024-01-14T16:23:36.449078200Z"
    },
    "collapsed": false,
    "jupyter": {
     "outputs_hidden": false
    }
   },
   "outputs": [],
   "source": [
    "\n",
    "options=webdriver.ChromeOptions()\n",
    "# options.add_argument(f\"user-data-dir={user_dir}\")\n",
    "prefs = {\"profile.default_content_setting_values.notifications\" : 2}\n",
    "options.add_experimental_option(\"prefs\", prefs)\n",
    "options.add_argument('--start-maximized')\n",
    "options.add_argument(\"disable-infobars\")\n",
    "options.add_argument(\"--disable-notifications\")\n",
    "# options.add_argument(\"--auto-open-devtools-for-tabs\")\n",
    "options.add_argument('--no-first-run')  # نخستین تجربه  را  که کروم میده رد میکنه\n",
    "# options.add_argument('--log-level=DEBUG') # ارورها را نشون میده بهمون\n",
    "options.add_argument('--no-default-browser-check') # بروزر پیشفرض را نشون نده بهمون\n",
    "# options.add_argument(\"--disable-extensions\")\n",
    "options.add_argument('--no-sandbox')\n",
    "options.add_argument(\"--disable-popup-blocking\")\n",
    "\n",
    "service=Service(executable_path=ChromeDriverManager().install())\n",
    "driver=webdriver.Chrome(service=service,options=options)\n",
    "\n"
   ]
  },
  {
   "cell_type": "code",
   "execution_count": 130,
   "metadata": {
    "ExecuteTime": {
     "end_time": "2024-01-14T16:23:43.187706300Z",
     "start_time": "2024-01-14T16:23:40.275065600Z"
    },
    "collapsed": false,
    "jupyter": {
     "outputs_hidden": false
    }
   },
   "outputs": [],
   "source": [
    "\n",
    "driver.get(the_site)\n",
    "\n",
    "driver.implicitly_wait(10)"
   ]
  },
  {
   "cell_type": "markdown",
   "metadata": {
    "collapsed": false,
    "jupyter": {
     "outputs_hidden": false
    }
   },
   "source": []
  },
  {
   "cell_type": "code",
   "execution_count": 131,
   "metadata": {
    "ExecuteTime": {
     "end_time": "2024-01-14T16:23:43.425011900Z",
     "start_time": "2024-01-14T16:23:43.192703700Z"
    },
    "collapsed": false,
    "jupyter": {
     "outputs_hidden": false
    }
   },
   "outputs": [
    {
     "data": {
      "text/plain": [
       "'آخرین بروز رسانی: 1402/11/01 08:00:00'"
      ]
     },
     "execution_count": 131,
     "metadata": {},
     "output_type": "execute_result"
    }
   ],
   "source": [
    "\n",
    "\n",
    "\n",
    "update_last=driver.find_element(By.ID,'LastUpdateHolder').text\n",
    "update_last"
   ]
  },
  {
   "cell_type": "code",
   "execution_count": 132,
   "metadata": {},
   "outputs": [
    {
     "data": {
      "text/plain": [
       "('1402/11/01', '08:00:00')"
      ]
     },
     "execution_count": 132,
     "metadata": {},
     "output_type": "execute_result"
    }
   ],
   "source": [
    "\n",
    "# the_end_date=\"1402/10/30\" \n",
    "the_end_date,the_end_date_time=update_last.split()[-2],update_last.split()[-1] \n",
    "# the_end_date \n",
    "the_end_date,the_end_date_time "
   ]
  },
  {
   "cell_type": "code",
   "execution_count": 133,
   "metadata": {},
   "outputs": [
    {
     "data": {
      "text/plain": [
       "'1402/11/01'"
      ]
     },
     "execution_count": 133,
     "metadata": {},
     "output_type": "execute_result"
    }
   ],
   "source": [
    "update_last.split()[-2]"
   ]
  },
  {
   "cell_type": "code",
   "execution_count": 134,
   "metadata": {
    "ExecuteTime": {
     "end_time": "2024-01-14T16:23:43.431168400Z",
     "start_time": "2024-01-14T16:23:43.426014900Z"
    },
    "collapsed": false,
    "jupyter": {
     "outputs_hidden": false
    }
   },
   "outputs": [],
   "source": [
    "\n",
    "\n",
    "\n",
    "# body_table=driver.find_element(By.XPATH,\"//div[@class='fixed-table-container']\").get_attribute('outerHTML')\n",
    "# driver.implicitly_wait(5)\n",
    "# html_buffer = io.StringIO(body_table)  # نوشته بود منسوخ میشه و باید بریزی توی اون\n",
    "# the_request_pandas_1=pd.DataFrame(pd.read_html(html_buffer)[0])\n",
    "# the_request_pandas_1\n",
    "\n"
   ]
  },
  {
   "cell_type": "code",
   "execution_count": 135,
   "metadata": {
    "ExecuteTime": {
     "end_time": "2024-01-14T16:23:43.437758300Z",
     "start_time": "2024-01-14T16:23:43.431168400Z"
    },
    "collapsed": false,
    "jupyter": {
     "outputs_hidden": false
    }
   },
   "outputs": [],
   "source": [
    "# driver.execute_script(\"window.scrollBy(0,document.body.scrollHeight);\")"
   ]
  },
  {
   "cell_type": "code",
   "execution_count": 136,
   "metadata": {
    "ExecuteTime": {
     "end_time": "2024-01-14T16:23:43.443725100Z",
     "start_time": "2024-01-14T16:23:43.436749800Z"
    },
    "collapsed": false,
    "jupyter": {
     "outputs_hidden": false
    }
   },
   "outputs": [],
   "source": [
    "\n",
    "# the_last_num=int(driver.find_element(By.XPATH,\"//li[@class='page-last']//a\").text)\n",
    "# the_last_num=int(the_last_str)\n",
    "# the_last_num"
   ]
  },
  {
   "cell_type": "code",
   "execution_count": null,
   "metadata": {
    "ExecuteTime": {
     "end_time": "2024-01-14T16:23:43.443725100Z",
     "start_time": "2024-01-14T16:23:43.441715100Z"
    },
    "collapsed": false,
    "jupyter": {
     "outputs_hidden": false
    }
   },
   "outputs": [],
   "source": []
  },
  {
   "cell_type": "code",
   "execution_count": null,
   "metadata": {
    "ExecuteTime": {
     "end_time": "2024-01-14T16:23:43.450279900Z",
     "start_time": "2024-01-14T16:23:43.446226900Z"
    },
    "collapsed": false,
    "jupyter": {
     "outputs_hidden": false
    }
   },
   "outputs": [],
   "source": []
  },
  {
   "cell_type": "code",
   "execution_count": null,
   "metadata": {
    "ExecuteTime": {
     "end_time": "2024-01-14T16:23:43.494037100Z",
     "start_time": "2024-01-14T16:23:43.451786200Z"
    },
    "collapsed": false,
    "jupyter": {
     "outputs_hidden": false
    }
   },
   "outputs": [],
   "source": []
  },
  {
   "cell_type": "code",
   "execution_count": null,
   "metadata": {
    "ExecuteTime": {
     "end_time": "2024-01-14T16:23:43.509028800Z",
     "start_time": "2024-01-14T16:23:43.458705500Z"
    },
    "collapsed": false,
    "jupyter": {
     "outputs_hidden": false
    }
   },
   "outputs": [],
   "source": []
  },
  {
   "cell_type": "code",
   "execution_count": 137,
   "metadata": {
    "ExecuteTime": {
     "end_time": "2024-01-14T16:23:43.510030100Z",
     "start_time": "2024-01-14T16:23:43.462711500Z"
    },
    "collapsed": false,
    "jupyter": {
     "outputs_hidden": false
    }
   },
   "outputs": [],
   "source": [
    "# df_con.loc[df_con['نام کالا']==('سیمان')]"
   ]
  },
  {
   "cell_type": "code",
   "execution_count": null,
   "metadata": {
    "ExecuteTime": {
     "end_time": "2024-01-14T16:23:43.510030100Z",
     "start_time": "2024-01-14T16:23:43.467165500Z"
    },
    "collapsed": false,
    "jupyter": {
     "outputs_hidden": false
    }
   },
   "outputs": [],
   "source": [
    "\n",
    "\n"
   ]
  },
  {
   "cell_type": "code",
   "execution_count": 138,
   "metadata": {
    "ExecuteTime": {
     "end_time": "2024-01-14T16:23:43.511028200Z",
     "start_time": "2024-01-14T16:23:43.472673900Z"
    },
    "collapsed": false,
    "jupyter": {
     "outputs_hidden": false
    }
   },
   "outputs": [],
   "source": [
    "\n",
    "# پیدا کردن تاریخ آغاز\n",
    "\n",
    "# driver.find_element(By.XPATH,f\"//input[@id='ctl05_ReportsHeaderControl_FromDate']/following-sibling::a[@class='pcalBtn']\").click()\n",
    "# the_start_date=\"1402/10/12\"\n",
    "# date_format=datetime.strptime(the_start_date, \"%Y/%m/%d\")\n",
    "# date_format\n",
    "# راه بهتر کلیک و وارد کردن\n"
   ]
  },
  {
   "cell_type": "code",
   "execution_count": 139,
   "metadata": {
    "ExecuteTime": {
     "end_time": "2024-01-14T16:23:43.511028200Z",
     "start_time": "2024-01-14T16:23:43.477613200Z"
    },
    "collapsed": false,
    "jupyter": {
     "outputs_hidden": false
    }
   },
   "outputs": [
    {
     "data": {
      "text/plain": [
       "'1402/11/01'"
      ]
     },
     "execution_count": 139,
     "metadata": {},
     "output_type": "execute_result"
    }
   ],
   "source": [
    "the_start_date\n",
    "the_end_date"
   ]
  },
  {
   "cell_type": "code",
   "execution_count": null,
   "metadata": {
    "ExecuteTime": {
     "end_time": "2024-01-14T16:23:43.511028200Z",
     "start_time": "2024-01-14T16:23:43.482040600Z"
    },
    "collapsed": false,
    "jupyter": {
     "outputs_hidden": false
    }
   },
   "outputs": [],
   "source": []
  },
  {
   "cell_type": "code",
   "execution_count": 140,
   "metadata": {
    "ExecuteTime": {
     "end_time": "2024-01-14T16:23:45.232379800Z",
     "start_time": "2024-01-14T16:23:43.494037100Z"
    },
    "collapsed": false,
    "jupyter": {
     "outputs_hidden": false
    }
   },
   "outputs": [],
   "source": [
    "\n",
    "\n",
    "\n",
    "driver.find_element(By.XPATH,\"//select[@id='mainCat']\").click()\n",
    "\n",
    "\n",
    "driver.find_element(By.XPATH,f\"//option[text()='صنعتی']\").click()\n",
    "\n",
    "driver.find_element(By.XPATH,\"//select[@id='Cats']\").click()\n",
    "driver.find_element(By.XPATH,f\"//option[text()='سیمان']\").click()\n",
    "\n",
    "\n",
    "\n",
    "\n",
    "\n",
    "\n",
    "\n",
    "\n",
    "\n",
    "\n",
    "\n"
   ]
  },
  {
   "cell_type": "code",
   "execution_count": 141,
   "metadata": {
    "ExecuteTime": {
     "end_time": "2024-01-14T16:23:45.326351400Z",
     "start_time": "2024-01-14T16:23:45.235378Z"
    },
    "collapsed": false,
    "jupyter": {
     "outputs_hidden": false
    }
   },
   "outputs": [],
   "source": [
    "\n",
    "\n",
    "\n",
    "the_from_input=driver.find_element(By.XPATH,f\"//input[@id='ctl05_ReportsHeaderControl_FromDate']\")\n",
    "\n",
    "driver.execute_script(\"arguments[0].value='\" + the_start_date + \"';\", the_from_input)\n",
    "\n",
    "\n",
    "# the_from_input.clear()\n",
    "# ActionChains(driver=driver).double_click(the_from_input).double_click(the_from_input).perform()\n",
    "# the_from_input.send_keys(the_start_date)\n",
    "\n",
    "\n",
    "\n",
    "\n",
    "the_end_input=driver.find_element(By.XPATH,f\"//input[@id='ctl05_ReportsHeaderControl_ToDate']\")\n",
    "driver.execute_script(\"arguments[0].value='\"+ the_end_date +\"';\",the_end_input)\n",
    "# ActionChains(driver=driver).double_click(the_end_input).double_click(the_end_input).perform()\n",
    "# the_end_input.send_keys(the_end_date)\n",
    "\n",
    "\n",
    "driver.find_element(By.XPATH,f\"//input[@value='نمایش']\").click()\n",
    "\n"
   ]
  },
  {
   "cell_type": "code",
   "execution_count": null,
   "metadata": {},
   "outputs": [],
   "source": []
  },
  {
   "cell_type": "code",
   "execution_count": null,
   "metadata": {},
   "outputs": [],
   "source": []
  },
  {
   "cell_type": "code",
   "execution_count": null,
   "metadata": {},
   "outputs": [],
   "source": [
    "\n"
   ]
  },
  {
   "cell_type": "code",
   "execution_count": null,
   "metadata": {},
   "outputs": [],
   "source": []
  },
  {
   "cell_type": "code",
   "execution_count": null,
   "metadata": {},
   "outputs": [],
   "source": []
  },
  {
   "cell_type": "code",
   "execution_count": 142,
   "metadata": {
    "ExecuteTime": {
     "end_time": "2024-01-14T16:24:31.361034600Z",
     "start_time": "2024-01-14T16:23:45.330347700Z"
    },
    "collapsed": false,
    "jupyter": {
     "outputs_hidden": false
    }
   },
   "outputs": [],
   "source": [
    "\n",
    "# print(the_last_num)\n",
    "the_request_pandas=pd.DataFrame() #  دیتا فریم خالی درست میکنیم\n",
    "the_last_num_element=driver.find_element(By.XPATH,\"//li[@class='page-last']//a\")\n",
    "# اخری را پیدا میکنیم\n",
    "the_last_num=int(the_last_num_element.text)\n",
    "last_page_number = the_last_num  # میریزیم توی یه متغیر که فقط عددشو بهش بدیم وگرنه استیل المنت میده\n",
    "\n",
    "(last_page_number)\n",
    "\n",
    "\n",
    "for page in range(1,last_page_number):\n",
    "        # رنج اون صفحات خودمون میبینیم و بهش میدیم . بسته به اینکه اخری چی باشه\n",
    "        # احتمالا به مشکل استیل المنت بخوره\n",
    "        driver.implicitly_wait(10)\n",
    "        driver.execute_script(\"window.scrollBy(0,document.body.scrollHeight);\")\n",
    "        # sleep(1)\n",
    "        body_table=driver.find_element(By.XPATH,\"//div[@class='fixed-table-container']\").get_attribute('outerHTML')\n",
    "    \n",
    "        # ای او می کنیم چون خود رید اچ دی امل ال منسوخ میشه برای دریافت اچ دی ام ال\n",
    "        html_buffer = io.StringIO(body_table)  # نوشته بود منسوخ میشه و باید بریزی توی اون\n",
    "        the_request_pandas_1=pd.DataFrame(pd.read_html(html_buffer)[0])\n",
    "        the_request_pandas=pd.concat([the_request_pandas,the_request_pandas_1],axis=0)\n",
    "        the_request_pandas=the_request_pandas.drop_duplicates() # خطوط تکراری را برمیداره\n",
    "        # page_number=driver.find_element(By.XPATH,f\"//li[contains(@class,'page')]//a[normalize-space(text())='{page+1}']\")\n",
    "        # print(page_number.text)\n",
    "        # the_last_num_element = driver.find_element(By.XPATH, \"//li[@class='page-last']//a\")\n",
    "        # the_last_num = the_last_num_element.text\n",
    "        sleep(1)  # باید باشه چون استیل المنت میده در غیر این صورت\n",
    "        try:\n",
    "            WebDriverWait(driver,5).until(EC.element_to_be_clickable,((By.XPATH,f\"//li[contains(@class,'page')]//a[normalize-space(text())='{page+1}']\"))).click()\n",
    "        except:\n",
    "            sleep(1)\n",
    "            page_number=driver.find_element(By.XPATH,f\"//li[contains(@class,'page')]//a[normalize-space(text())='{page+1}']\")\n",
    "            driver.execute_script(f\"arguments[0].click();\",page_number)\n",
    "            \n",
    "        if page<last_page_number:\n",
    "            driver.execute_script(\"window.scrollBy(0,document.body.scrollHeight);\")\n",
    "\n",
    "\n",
    "\n",
    "\n",
    "\n",
    "\n"
   ]
  },
  {
   "cell_type": "code",
   "execution_count": 143,
   "metadata": {
    "ExecuteTime": {
     "end_time": "2024-01-14T16:24:31.382567700Z",
     "start_time": "2024-01-14T16:24:31.361034600Z"
    },
    "collapsed": false,
    "jupyter": {
     "outputs_hidden": false
    }
   },
   "outputs": [
    {
     "data": {
      "text/html": [
       "<div>\n",
       "<style scoped>\n",
       "    .dataframe tbody tr th:only-of-type {\n",
       "        vertical-align: middle;\n",
       "    }\n",
       "\n",
       "    .dataframe tbody tr th {\n",
       "        vertical-align: top;\n",
       "    }\n",
       "\n",
       "    .dataframe thead th {\n",
       "        text-align: right;\n",
       "    }\n",
       "</style>\n",
       "<table border=\"1\" class=\"dataframe\">\n",
       "  <thead>\n",
       "    <tr style=\"text-align: right;\">\n",
       "      <th></th>\n",
       "      <th>پیوست</th>\n",
       "      <th>کارگزار</th>\n",
       "      <th>تاریخ عرضه</th>\n",
       "      <th>نام کالا</th>\n",
       "      <th>نماد</th>\n",
       "      <th>تالار</th>\n",
       "      <th>تولید کننده</th>\n",
       "      <th>عرضه کننده</th>\n",
       "      <th>حجم کالای قابل عرضه</th>\n",
       "      <th>حداقل عرضه</th>\n",
       "      <th>قیمت پایه</th>\n",
       "      <th>درصد پیش پرداخت سفارش خرید</th>\n",
       "      <th>مکان تحویل</th>\n",
       "      <th>نوع ارز</th>\n",
       "      <th>واحد</th>\n",
       "    </tr>\n",
       "  </thead>\n",
       "  <tbody>\n",
       "    <tr>\n",
       "      <th>0</th>\n",
       "      <td>-</td>\n",
       "      <td>بانک سپه</td>\n",
       "      <td>1402/01/06</td>\n",
       "      <td>سیمان تیپ 2/کیسه50</td>\n",
       "      <td>CICE-CEMENT2-50L-00</td>\n",
       "      <td>تالار سیمان</td>\n",
       "      <td>سیمان کیاسر</td>\n",
       "      <td>صنایع سیمان کیاسر</td>\n",
       "      <td>3500</td>\n",
       "      <td>40</td>\n",
       "      <td>6057</td>\n",
       "      <td>50</td>\n",
       "      <td>انبار کارخانه</td>\n",
       "      <td>ریال</td>\n",
       "      <td>1000 کیلوگرم</td>\n",
       "    </tr>\n",
       "    <tr>\n",
       "      <th>1</th>\n",
       "      <td>-</td>\n",
       "      <td>بانک سپه</td>\n",
       "      <td>1402/01/06</td>\n",
       "      <td>سیمان تیپ2</td>\n",
       "      <td>CICE-CEMENT2B-00</td>\n",
       "      <td>تالار سیمان</td>\n",
       "      <td>سیمان کیاسر</td>\n",
       "      <td>صنایع سیمان کیاسر</td>\n",
       "      <td>4500</td>\n",
       "      <td>40</td>\n",
       "      <td>5866</td>\n",
       "      <td>50</td>\n",
       "      <td>انبار کارخانه</td>\n",
       "      <td>ریال</td>\n",
       "      <td>1000 کیلوگرم</td>\n",
       "    </tr>\n",
       "    <tr>\n",
       "      <th>2</th>\n",
       "      <td>-</td>\n",
       "      <td>بانک سپه</td>\n",
       "      <td>1402/01/06</td>\n",
       "      <td>سیمان تیپ 2/کیسه50</td>\n",
       "      <td>HCC-CEMENT2-50L-00</td>\n",
       "      <td>تالار سیمان</td>\n",
       "      <td>سیمان هرمزگان</td>\n",
       "      <td>سیمان هرمزگان</td>\n",
       "      <td>21000</td>\n",
       "      <td>100</td>\n",
       "      <td>8792</td>\n",
       "      <td>50</td>\n",
       "      <td>انبار کارخانه</td>\n",
       "      <td>ریال</td>\n",
       "      <td>1000 کیلوگرم</td>\n",
       "    </tr>\n",
       "    <tr>\n",
       "      <th>3</th>\n",
       "      <td>-</td>\n",
       "      <td>بانک سپه</td>\n",
       "      <td>1402/01/06</td>\n",
       "      <td>سیمان تیپ2</td>\n",
       "      <td>HCC-CEMENT2B-00</td>\n",
       "      <td>تالار سیمان</td>\n",
       "      <td>سیمان هرمزگان</td>\n",
       "      <td>سیمان هرمزگان</td>\n",
       "      <td>17000</td>\n",
       "      <td>40</td>\n",
       "      <td>7973</td>\n",
       "      <td>50</td>\n",
       "      <td>انبار کارخانه</td>\n",
       "      <td>ریال</td>\n",
       "      <td>1000 کیلوگرم</td>\n",
       "    </tr>\n",
       "    <tr>\n",
       "      <th>4</th>\n",
       "      <td>-</td>\n",
       "      <td>بورس بیمه ایران</td>\n",
       "      <td>1402/01/06</td>\n",
       "      <td>سیمان تیپ 2/کیسه50</td>\n",
       "      <td>DCC-CEMENT2-50L-00</td>\n",
       "      <td>تالار سیمان</td>\n",
       "      <td>سیمان داراب</td>\n",
       "      <td>سیمان داراب</td>\n",
       "      <td>10000</td>\n",
       "      <td>40</td>\n",
       "      <td>8792</td>\n",
       "      <td>50</td>\n",
       "      <td>انبار کارخانه</td>\n",
       "      <td>ریال</td>\n",
       "      <td>1000 کیلوگرم</td>\n",
       "    </tr>\n",
       "    <tr>\n",
       "      <th>...</th>\n",
       "      <td>...</td>\n",
       "      <td>...</td>\n",
       "      <td>...</td>\n",
       "      <td>...</td>\n",
       "      <td>...</td>\n",
       "      <td>...</td>\n",
       "      <td>...</td>\n",
       "      <td>...</td>\n",
       "      <td>...</td>\n",
       "      <td>...</td>\n",
       "      <td>...</td>\n",
       "      <td>...</td>\n",
       "      <td>...</td>\n",
       "      <td>...</td>\n",
       "      <td>...</td>\n",
       "    </tr>\n",
       "    <tr>\n",
       "      <th>15</th>\n",
       "      <td>-</td>\n",
       "      <td>صبا تأمین</td>\n",
       "      <td>1402/11/01</td>\n",
       "      <td>سیمان تیپ 2/کیسه50</td>\n",
       "      <td>ZCC-CEMENT2-50L-00</td>\n",
       "      <td>تالار سیمان</td>\n",
       "      <td>سیمان زنجان</td>\n",
       "      <td>شرکت سیمان زنجان</td>\n",
       "      <td>1000</td>\n",
       "      <td>100</td>\n",
       "      <td>9228</td>\n",
       "      <td>10</td>\n",
       "      <td>انبار کارخانه</td>\n",
       "      <td>ریال</td>\n",
       "      <td>1000 کیلوگرم</td>\n",
       "    </tr>\n",
       "    <tr>\n",
       "      <th>16</th>\n",
       "      <td>-</td>\n",
       "      <td>صبا تأمین</td>\n",
       "      <td>1402/11/01</td>\n",
       "      <td>سیمان تیپ2</td>\n",
       "      <td>GHCO-CEMENT2B-00</td>\n",
       "      <td>تالار سیمان</td>\n",
       "      <td>سیمان قائن</td>\n",
       "      <td>شرکت سیمان قاین</td>\n",
       "      <td>6400</td>\n",
       "      <td>40</td>\n",
       "      <td>6380</td>\n",
       "      <td>10</td>\n",
       "      <td>انبار کارخانه</td>\n",
       "      <td>ریال</td>\n",
       "      <td>1000 کیلوگرم</td>\n",
       "    </tr>\n",
       "    <tr>\n",
       "      <th>17</th>\n",
       "      <td>-</td>\n",
       "      <td>صبا تأمین</td>\n",
       "      <td>1402/11/01</td>\n",
       "      <td>سیمان تیپ 2/کیسه50</td>\n",
       "      <td>GHCO-CEMENT2-50L-00</td>\n",
       "      <td>تالار سیمان</td>\n",
       "      <td>سیمان قائن</td>\n",
       "      <td>شرکت سیمان قاین</td>\n",
       "      <td>2200</td>\n",
       "      <td>100</td>\n",
       "      <td>8298</td>\n",
       "      <td>10</td>\n",
       "      <td>انبار کارخانه</td>\n",
       "      <td>ریال</td>\n",
       "      <td>1000 کیلوگرم</td>\n",
       "    </tr>\n",
       "    <tr>\n",
       "      <th>18</th>\n",
       "      <td>-</td>\n",
       "      <td>صبا تأمین</td>\n",
       "      <td>1402/11/01</td>\n",
       "      <td>سیمان تیپ 325-1</td>\n",
       "      <td>GHCO-CEMENT325B-00</td>\n",
       "      <td>تالار سیمان</td>\n",
       "      <td>سیمان قائن</td>\n",
       "      <td>شرکت سیمان قاین</td>\n",
       "      <td>2200</td>\n",
       "      <td>40</td>\n",
       "      <td>6216</td>\n",
       "      <td>10</td>\n",
       "      <td>انبار کارخانه</td>\n",
       "      <td>ریال</td>\n",
       "      <td>1000 کیلوگرم</td>\n",
       "    </tr>\n",
       "    <tr>\n",
       "      <th>19</th>\n",
       "      <td>-</td>\n",
       "      <td>صبا تأمین</td>\n",
       "      <td>1402/11/01</td>\n",
       "      <td>سیمان تیپ 325-1/کیسه50</td>\n",
       "      <td>GHCO-CEMENT325-50L-00</td>\n",
       "      <td>تالار سیمان</td>\n",
       "      <td>سیمان قائن</td>\n",
       "      <td>شرکت سیمان قاین</td>\n",
       "      <td>2500</td>\n",
       "      <td>40</td>\n",
       "      <td>8134</td>\n",
       "      <td>10</td>\n",
       "      <td>انبار کارخانه</td>\n",
       "      <td>ریال</td>\n",
       "      <td>1000 کیلوگرم</td>\n",
       "    </tr>\n",
       "  </tbody>\n",
       "</table>\n",
       "<p>11839 rows × 15 columns</p>\n",
       "</div>"
      ],
      "text/plain": [
       "   پیوست          کارگزار  تاریخ عرضه                نام کالا  \\\n",
       "0      -         بانک سپه  1402/01/06      سیمان تیپ 2/کیسه50   \n",
       "1      -         بانک سپه  1402/01/06              سیمان تیپ2   \n",
       "2      -         بانک سپه  1402/01/06      سیمان تیپ 2/کیسه50   \n",
       "3      -         بانک سپه  1402/01/06              سیمان تیپ2   \n",
       "4      -  بورس بیمه ایران  1402/01/06      سیمان تیپ 2/کیسه50   \n",
       "..   ...              ...         ...                     ...   \n",
       "15     -        صبا تأمین  1402/11/01      سیمان تیپ 2/کیسه50   \n",
       "16     -        صبا تأمین  1402/11/01              سیمان تیپ2   \n",
       "17     -        صبا تأمین  1402/11/01      سیمان تیپ 2/کیسه50   \n",
       "18     -        صبا تأمین  1402/11/01         سیمان تیپ 325-1   \n",
       "19     -        صبا تأمین  1402/11/01  سیمان تیپ 325-1/کیسه50   \n",
       "\n",
       "                     نماد        تالار    تولید کننده         عرضه کننده  \\\n",
       "0     CICE-CEMENT2-50L-00  تالار سیمان    سیمان کیاسر  صنایع سیمان کیاسر   \n",
       "1        CICE-CEMENT2B-00  تالار سیمان    سیمان کیاسر  صنایع سیمان کیاسر   \n",
       "2      HCC-CEMENT2-50L-00  تالار سیمان  سیمان هرمزگان      سیمان هرمزگان   \n",
       "3         HCC-CEMENT2B-00  تالار سیمان  سیمان هرمزگان      سیمان هرمزگان   \n",
       "4      DCC-CEMENT2-50L-00  تالار سیمان    سیمان داراب        سیمان داراب   \n",
       "..                    ...          ...            ...                ...   \n",
       "15     ZCC-CEMENT2-50L-00  تالار سیمان    سیمان زنجان   شرکت سیمان زنجان   \n",
       "16       GHCO-CEMENT2B-00  تالار سیمان     سیمان قائن    شرکت سیمان قاین   \n",
       "17    GHCO-CEMENT2-50L-00  تالار سیمان     سیمان قائن    شرکت سیمان قاین   \n",
       "18     GHCO-CEMENT325B-00  تالار سیمان     سیمان قائن    شرکت سیمان قاین   \n",
       "19  GHCO-CEMENT325-50L-00  تالار سیمان     سیمان قائن    شرکت سیمان قاین   \n",
       "\n",
       "    حجم کالای قابل عرضه  حداقل عرضه  قیمت پایه  درصد پیش پرداخت سفارش خرید  \\\n",
       "0                  3500          40       6057                          50   \n",
       "1                  4500          40       5866                          50   \n",
       "2                 21000         100       8792                          50   \n",
       "3                 17000          40       7973                          50   \n",
       "4                 10000          40       8792                          50   \n",
       "..                  ...         ...        ...                         ...   \n",
       "15                 1000         100       9228                          10   \n",
       "16                 6400          40       6380                          10   \n",
       "17                 2200         100       8298                          10   \n",
       "18                 2200          40       6216                          10   \n",
       "19                 2500          40       8134                          10   \n",
       "\n",
       "       مکان تحویل نوع ارز          واحد  \n",
       "0   انبار کارخانه    ریال  1000 کیلوگرم  \n",
       "1   انبار کارخانه    ریال  1000 کیلوگرم  \n",
       "2   انبار کارخانه    ریال  1000 کیلوگرم  \n",
       "3   انبار کارخانه    ریال  1000 کیلوگرم  \n",
       "4   انبار کارخانه    ریال  1000 کیلوگرم  \n",
       "..            ...     ...           ...  \n",
       "15  انبار کارخانه    ریال  1000 کیلوگرم  \n",
       "16  انبار کارخانه    ریال  1000 کیلوگرم  \n",
       "17  انبار کارخانه    ریال  1000 کیلوگرم  \n",
       "18  انبار کارخانه    ریال  1000 کیلوگرم  \n",
       "19  انبار کارخانه    ریال  1000 کیلوگرم  \n",
       "\n",
       "[11839 rows x 15 columns]"
      ]
     },
     "execution_count": 143,
     "metadata": {},
     "output_type": "execute_result"
    }
   ],
   "source": [
    "the_request_pandas\n"
   ]
  },
  {
   "cell_type": "code",
   "execution_count": 144,
   "metadata": {
    "ExecuteTime": {
     "end_time": "2024-01-14T16:24:31.438732200Z",
     "start_time": "2024-01-14T16:24:31.382567700Z"
    },
    "collapsed": false,
    "jupyter": {
     "outputs_hidden": false
    }
   },
   "outputs": [
    {
     "data": {
      "text/html": [
       "<div>\n",
       "<style scoped>\n",
       "    .dataframe tbody tr th:only-of-type {\n",
       "        vertical-align: middle;\n",
       "    }\n",
       "\n",
       "    .dataframe tbody tr th {\n",
       "        vertical-align: top;\n",
       "    }\n",
       "\n",
       "    .dataframe thead th {\n",
       "        text-align: right;\n",
       "    }\n",
       "</style>\n",
       "<table border=\"1\" class=\"dataframe\">\n",
       "  <thead>\n",
       "    <tr style=\"text-align: right;\">\n",
       "      <th></th>\n",
       "      <th>پیوست</th>\n",
       "      <th>کارگزار</th>\n",
       "      <th>تاریخ عرضه</th>\n",
       "      <th>نام کالا</th>\n",
       "      <th>نماد</th>\n",
       "      <th>تالار</th>\n",
       "      <th>تولید کننده</th>\n",
       "      <th>عرضه کننده</th>\n",
       "      <th>حجم کالای قابل عرضه</th>\n",
       "      <th>حداقل عرضه</th>\n",
       "      <th>قیمت پایه</th>\n",
       "      <th>درصد پیش پرداخت سفارش خرید</th>\n",
       "      <th>مکان تحویل</th>\n",
       "      <th>نوع ارز</th>\n",
       "      <th>واحد</th>\n",
       "    </tr>\n",
       "  </thead>\n",
       "  <tbody>\n",
       "    <tr>\n",
       "      <th>0</th>\n",
       "      <td>-</td>\n",
       "      <td>بانک سپه</td>\n",
       "      <td>1402/01/06</td>\n",
       "      <td>سیمان تیپ 2/کیسه50</td>\n",
       "      <td>CICE-CEMENT2-50L-00</td>\n",
       "      <td>تالار سیمان</td>\n",
       "      <td>سیمان کیاسر</td>\n",
       "      <td>صنایع سیمان کیاسر</td>\n",
       "      <td>3500</td>\n",
       "      <td>40</td>\n",
       "      <td>6057</td>\n",
       "      <td>50</td>\n",
       "      <td>انبار کارخانه</td>\n",
       "      <td>ریال</td>\n",
       "      <td>1000 کیلوگرم</td>\n",
       "    </tr>\n",
       "    <tr>\n",
       "      <th>1</th>\n",
       "      <td>-</td>\n",
       "      <td>بانک سپه</td>\n",
       "      <td>1402/01/06</td>\n",
       "      <td>سیمان تیپ2</td>\n",
       "      <td>CICE-CEMENT2B-00</td>\n",
       "      <td>تالار سیمان</td>\n",
       "      <td>سیمان کیاسر</td>\n",
       "      <td>صنایع سیمان کیاسر</td>\n",
       "      <td>4500</td>\n",
       "      <td>40</td>\n",
       "      <td>5866</td>\n",
       "      <td>50</td>\n",
       "      <td>انبار کارخانه</td>\n",
       "      <td>ریال</td>\n",
       "      <td>1000 کیلوگرم</td>\n",
       "    </tr>\n",
       "    <tr>\n",
       "      <th>2</th>\n",
       "      <td>-</td>\n",
       "      <td>بانک سپه</td>\n",
       "      <td>1402/01/06</td>\n",
       "      <td>سیمان تیپ 2/کیسه50</td>\n",
       "      <td>HCC-CEMENT2-50L-00</td>\n",
       "      <td>تالار سیمان</td>\n",
       "      <td>سیمان هرمزگان</td>\n",
       "      <td>سیمان هرمزگان</td>\n",
       "      <td>21000</td>\n",
       "      <td>100</td>\n",
       "      <td>8792</td>\n",
       "      <td>50</td>\n",
       "      <td>انبار کارخانه</td>\n",
       "      <td>ریال</td>\n",
       "      <td>1000 کیلوگرم</td>\n",
       "    </tr>\n",
       "    <tr>\n",
       "      <th>3</th>\n",
       "      <td>-</td>\n",
       "      <td>بانک سپه</td>\n",
       "      <td>1402/01/06</td>\n",
       "      <td>سیمان تیپ2</td>\n",
       "      <td>HCC-CEMENT2B-00</td>\n",
       "      <td>تالار سیمان</td>\n",
       "      <td>سیمان هرمزگان</td>\n",
       "      <td>سیمان هرمزگان</td>\n",
       "      <td>17000</td>\n",
       "      <td>40</td>\n",
       "      <td>7973</td>\n",
       "      <td>50</td>\n",
       "      <td>انبار کارخانه</td>\n",
       "      <td>ریال</td>\n",
       "      <td>1000 کیلوگرم</td>\n",
       "    </tr>\n",
       "    <tr>\n",
       "      <th>4</th>\n",
       "      <td>-</td>\n",
       "      <td>بورس بیمه ایران</td>\n",
       "      <td>1402/01/06</td>\n",
       "      <td>سیمان تیپ 2/کیسه50</td>\n",
       "      <td>DCC-CEMENT2-50L-00</td>\n",
       "      <td>تالار سیمان</td>\n",
       "      <td>سیمان داراب</td>\n",
       "      <td>سیمان داراب</td>\n",
       "      <td>10000</td>\n",
       "      <td>40</td>\n",
       "      <td>8792</td>\n",
       "      <td>50</td>\n",
       "      <td>انبار کارخانه</td>\n",
       "      <td>ریال</td>\n",
       "      <td>1000 کیلوگرم</td>\n",
       "    </tr>\n",
       "    <tr>\n",
       "      <th>...</th>\n",
       "      <td>...</td>\n",
       "      <td>...</td>\n",
       "      <td>...</td>\n",
       "      <td>...</td>\n",
       "      <td>...</td>\n",
       "      <td>...</td>\n",
       "      <td>...</td>\n",
       "      <td>...</td>\n",
       "      <td>...</td>\n",
       "      <td>...</td>\n",
       "      <td>...</td>\n",
       "      <td>...</td>\n",
       "      <td>...</td>\n",
       "      <td>...</td>\n",
       "      <td>...</td>\n",
       "    </tr>\n",
       "    <tr>\n",
       "      <th>15</th>\n",
       "      <td>-</td>\n",
       "      <td>صبا تأمین</td>\n",
       "      <td>1402/11/01</td>\n",
       "      <td>سیمان تیپ 2/کیسه50</td>\n",
       "      <td>ZCC-CEMENT2-50L-00</td>\n",
       "      <td>تالار سیمان</td>\n",
       "      <td>سیمان زنجان</td>\n",
       "      <td>شرکت سیمان زنجان</td>\n",
       "      <td>1000</td>\n",
       "      <td>100</td>\n",
       "      <td>9228</td>\n",
       "      <td>10</td>\n",
       "      <td>انبار کارخانه</td>\n",
       "      <td>ریال</td>\n",
       "      <td>1000 کیلوگرم</td>\n",
       "    </tr>\n",
       "    <tr>\n",
       "      <th>16</th>\n",
       "      <td>-</td>\n",
       "      <td>صبا تأمین</td>\n",
       "      <td>1402/11/01</td>\n",
       "      <td>سیمان تیپ2</td>\n",
       "      <td>GHCO-CEMENT2B-00</td>\n",
       "      <td>تالار سیمان</td>\n",
       "      <td>سیمان قائن</td>\n",
       "      <td>شرکت سیمان قاین</td>\n",
       "      <td>6400</td>\n",
       "      <td>40</td>\n",
       "      <td>6380</td>\n",
       "      <td>10</td>\n",
       "      <td>انبار کارخانه</td>\n",
       "      <td>ریال</td>\n",
       "      <td>1000 کیلوگرم</td>\n",
       "    </tr>\n",
       "    <tr>\n",
       "      <th>17</th>\n",
       "      <td>-</td>\n",
       "      <td>صبا تأمین</td>\n",
       "      <td>1402/11/01</td>\n",
       "      <td>سیمان تیپ 2/کیسه50</td>\n",
       "      <td>GHCO-CEMENT2-50L-00</td>\n",
       "      <td>تالار سیمان</td>\n",
       "      <td>سیمان قائن</td>\n",
       "      <td>شرکت سیمان قاین</td>\n",
       "      <td>2200</td>\n",
       "      <td>100</td>\n",
       "      <td>8298</td>\n",
       "      <td>10</td>\n",
       "      <td>انبار کارخانه</td>\n",
       "      <td>ریال</td>\n",
       "      <td>1000 کیلوگرم</td>\n",
       "    </tr>\n",
       "    <tr>\n",
       "      <th>18</th>\n",
       "      <td>-</td>\n",
       "      <td>صبا تأمین</td>\n",
       "      <td>1402/11/01</td>\n",
       "      <td>سیمان تیپ 325-1</td>\n",
       "      <td>GHCO-CEMENT325B-00</td>\n",
       "      <td>تالار سیمان</td>\n",
       "      <td>سیمان قائن</td>\n",
       "      <td>شرکت سیمان قاین</td>\n",
       "      <td>2200</td>\n",
       "      <td>40</td>\n",
       "      <td>6216</td>\n",
       "      <td>10</td>\n",
       "      <td>انبار کارخانه</td>\n",
       "      <td>ریال</td>\n",
       "      <td>1000 کیلوگرم</td>\n",
       "    </tr>\n",
       "    <tr>\n",
       "      <th>19</th>\n",
       "      <td>-</td>\n",
       "      <td>صبا تأمین</td>\n",
       "      <td>1402/11/01</td>\n",
       "      <td>سیمان تیپ 325-1/کیسه50</td>\n",
       "      <td>GHCO-CEMENT325-50L-00</td>\n",
       "      <td>تالار سیمان</td>\n",
       "      <td>سیمان قائن</td>\n",
       "      <td>شرکت سیمان قاین</td>\n",
       "      <td>2500</td>\n",
       "      <td>40</td>\n",
       "      <td>8134</td>\n",
       "      <td>10</td>\n",
       "      <td>انبار کارخانه</td>\n",
       "      <td>ریال</td>\n",
       "      <td>1000 کیلوگرم</td>\n",
       "    </tr>\n",
       "  </tbody>\n",
       "</table>\n",
       "<p>11839 rows × 15 columns</p>\n",
       "</div>"
      ],
      "text/plain": [
       "   پیوست          کارگزار  تاریخ عرضه                نام کالا  \\\n",
       "0      -         بانک سپه  1402/01/06      سیمان تیپ 2/کیسه50   \n",
       "1      -         بانک سپه  1402/01/06              سیمان تیپ2   \n",
       "2      -         بانک سپه  1402/01/06      سیمان تیپ 2/کیسه50   \n",
       "3      -         بانک سپه  1402/01/06              سیمان تیپ2   \n",
       "4      -  بورس بیمه ایران  1402/01/06      سیمان تیپ 2/کیسه50   \n",
       "..   ...              ...         ...                     ...   \n",
       "15     -        صبا تأمین  1402/11/01      سیمان تیپ 2/کیسه50   \n",
       "16     -        صبا تأمین  1402/11/01              سیمان تیپ2   \n",
       "17     -        صبا تأمین  1402/11/01      سیمان تیپ 2/کیسه50   \n",
       "18     -        صبا تأمین  1402/11/01         سیمان تیپ 325-1   \n",
       "19     -        صبا تأمین  1402/11/01  سیمان تیپ 325-1/کیسه50   \n",
       "\n",
       "                     نماد        تالار    تولید کننده         عرضه کننده  \\\n",
       "0     CICE-CEMENT2-50L-00  تالار سیمان    سیمان کیاسر  صنایع سیمان کیاسر   \n",
       "1        CICE-CEMENT2B-00  تالار سیمان    سیمان کیاسر  صنایع سیمان کیاسر   \n",
       "2      HCC-CEMENT2-50L-00  تالار سیمان  سیمان هرمزگان      سیمان هرمزگان   \n",
       "3         HCC-CEMENT2B-00  تالار سیمان  سیمان هرمزگان      سیمان هرمزگان   \n",
       "4      DCC-CEMENT2-50L-00  تالار سیمان    سیمان داراب        سیمان داراب   \n",
       "..                    ...          ...            ...                ...   \n",
       "15     ZCC-CEMENT2-50L-00  تالار سیمان    سیمان زنجان   شرکت سیمان زنجان   \n",
       "16       GHCO-CEMENT2B-00  تالار سیمان     سیمان قائن    شرکت سیمان قاین   \n",
       "17    GHCO-CEMENT2-50L-00  تالار سیمان     سیمان قائن    شرکت سیمان قاین   \n",
       "18     GHCO-CEMENT325B-00  تالار سیمان     سیمان قائن    شرکت سیمان قاین   \n",
       "19  GHCO-CEMENT325-50L-00  تالار سیمان     سیمان قائن    شرکت سیمان قاین   \n",
       "\n",
       "    حجم کالای قابل عرضه  حداقل عرضه  قیمت پایه  درصد پیش پرداخت سفارش خرید  \\\n",
       "0                  3500          40       6057                          50   \n",
       "1                  4500          40       5866                          50   \n",
       "2                 21000         100       8792                          50   \n",
       "3                 17000          40       7973                          50   \n",
       "4                 10000          40       8792                          50   \n",
       "..                  ...         ...        ...                         ...   \n",
       "15                 1000         100       9228                          10   \n",
       "16                 6400          40       6380                          10   \n",
       "17                 2200         100       8298                          10   \n",
       "18                 2200          40       6216                          10   \n",
       "19                 2500          40       8134                          10   \n",
       "\n",
       "       مکان تحویل نوع ارز          واحد  \n",
       "0   انبار کارخانه    ریال  1000 کیلوگرم  \n",
       "1   انبار کارخانه    ریال  1000 کیلوگرم  \n",
       "2   انبار کارخانه    ریال  1000 کیلوگرم  \n",
       "3   انبار کارخانه    ریال  1000 کیلوگرم  \n",
       "4   انبار کارخانه    ریال  1000 کیلوگرم  \n",
       "..            ...     ...           ...  \n",
       "15  انبار کارخانه    ریال  1000 کیلوگرم  \n",
       "16  انبار کارخانه    ریال  1000 کیلوگرم  \n",
       "17  انبار کارخانه    ریال  1000 کیلوگرم  \n",
       "18  انبار کارخانه    ریال  1000 کیلوگرم  \n",
       "19  انبار کارخانه    ریال  1000 کیلوگرم  \n",
       "\n",
       "[11839 rows x 15 columns]"
      ]
     },
     "execution_count": 144,
     "metadata": {},
     "output_type": "execute_result"
    }
   ],
   "source": [
    "df_con=the_request_pandas.copy()\n",
    "df_con"
   ]
  },
  {
   "cell_type": "code",
   "execution_count": 145,
   "metadata": {
    "ExecuteTime": {
     "end_time": "2024-01-14T16:24:31.473714700Z",
     "start_time": "2024-01-14T16:24:31.403742200Z"
    },
    "collapsed": false,
    "jupyter": {
     "outputs_hidden": false
    }
   },
   "outputs": [
    {
     "data": {
      "text/plain": [
       "['پیوست',\n",
       " 'کارگزار',\n",
       " 'تاریخ عرضه',\n",
       " 'نام کالا',\n",
       " 'نماد',\n",
       " 'تالار',\n",
       " 'تولید کننده',\n",
       " 'عرضه کننده',\n",
       " 'حجم کالای قابل عرضه',\n",
       " 'حداقل عرضه',\n",
       " 'قیمت پایه',\n",
       " 'درصد پیش پرداخت سفارش خرید',\n",
       " 'مکان تحویل',\n",
       " 'نوع ارز',\n",
       " 'واحد']"
      ]
     },
     "execution_count": 145,
     "metadata": {},
     "output_type": "execute_result"
    }
   ],
   "source": [
    "list(df_con.columns)"
   ]
  },
  {
   "cell_type": "code",
   "execution_count": 146,
   "metadata": {
    "ExecuteTime": {
     "end_time": "2024-01-14T16:24:53.778163100Z",
     "start_time": "2024-01-14T16:24:53.642117200Z"
    },
    "collapsed": false,
    "jupyter": {
     "outputs_hidden": false
    }
   },
   "outputs": [],
   "source": [
    "driver.close()"
   ]
  },
  {
   "cell_type": "code",
   "execution_count": 147,
   "metadata": {
    "ExecuteTime": {
     "end_time": "2024-01-14T16:24:58.184103800Z",
     "start_time": "2024-01-14T16:24:58.133936700Z"
    },
    "collapsed": false,
    "jupyter": {
     "outputs_hidden": false
    }
   },
   "outputs": [
    {
     "data": {
      "text/plain": [
       "8519"
      ]
     },
     "execution_count": 147,
     "metadata": {},
     "output_type": "execute_result"
    }
   ],
   "source": [
    "# df_con # این دیتا فریمیه که اکنون در بالا گرفتیم\n",
    "\n",
    "con=sqlite3.connect(f'{the_database1}.db')\n",
    "\n",
    "# اینو میاریم که برای اولین بار دیتا بیس را که ایجاد میکنیم متد اپند و داراپ داپلیکیت روش کار کنه\n",
    "try:\n",
    "    df_read=pd.read_sql_query(f\"SELECT * FROM {the_table_1} \",con=con)\n",
    "except pd.io.sql.DatabaseError: #io میشه همه فرمت های فایل هار ا بخونه  و اگه اسکیوال باشه اون جا باید بنویسیم  چه نوع اروری است\n",
    "    df_read = pd.DataFrame() \n",
    "# df_read -----\n",
    "# (list(df_read.columns)) \n",
    "# list(df_con.columns) \n",
    "\n",
    "# این اگر وجود داشت نمیریزه هر سطری\n",
    "df=pd.concat((df_read,df_con)).drop_duplicates(subset=['کارگزار','تاریخ عرضه','نام کالا' ,'تولید کننده','نماد','عرضه کننده','قیمت پایه' ,'حجم کالای قابل عرضه'],keep=False)\n",
    "\n",
    "df.to_sql(name=f\"{the_table_1}\",con=con,if_exists='append',index=False)\n",
    "\n"
   ]
  },
  {
   "cell_type": "code",
   "execution_count": 148,
   "metadata": {},
   "outputs": [
    {
     "data": {
      "text/html": [
       "<div>\n",
       "<style scoped>\n",
       "    .dataframe tbody tr th:only-of-type {\n",
       "        vertical-align: middle;\n",
       "    }\n",
       "\n",
       "    .dataframe tbody tr th {\n",
       "        vertical-align: top;\n",
       "    }\n",
       "\n",
       "    .dataframe thead th {\n",
       "        text-align: right;\n",
       "    }\n",
       "</style>\n",
       "<table border=\"1\" class=\"dataframe\">\n",
       "  <thead>\n",
       "    <tr style=\"text-align: right;\">\n",
       "      <th></th>\n",
       "      <th>پیوست</th>\n",
       "      <th>کارگزار</th>\n",
       "      <th>تاریخ عرضه</th>\n",
       "      <th>نام کالا</th>\n",
       "      <th>نماد</th>\n",
       "      <th>تالار</th>\n",
       "      <th>تولید کننده</th>\n",
       "      <th>عرضه کننده</th>\n",
       "      <th>حجم کالای قابل عرضه</th>\n",
       "      <th>حداقل عرضه</th>\n",
       "      <th>قیمت پایه</th>\n",
       "      <th>درصد پیش پرداخت سفارش خرید</th>\n",
       "      <th>مکان تحویل</th>\n",
       "      <th>نوع ارز</th>\n",
       "      <th>واحد</th>\n",
       "    </tr>\n",
       "  </thead>\n",
       "  <tbody>\n",
       "    <tr>\n",
       "      <th>0</th>\n",
       "      <td>-</td>\n",
       "      <td>آگاه</td>\n",
       "      <td>1402/10/03</td>\n",
       "      <td>سیمان تیپ 2/کیسه50</td>\n",
       "      <td>ESTC-CEMENT2-50L-00</td>\n",
       "      <td>تالار سیمان</td>\n",
       "      <td>سیمان استهبان</td>\n",
       "      <td>مجتمع صنعتی سیمان استهبان</td>\n",
       "      <td>1014</td>\n",
       "      <td>40</td>\n",
       "      <td>9212</td>\n",
       "      <td>10</td>\n",
       "      <td>انبار کارخانه</td>\n",
       "      <td>ریال</td>\n",
       "      <td>1000 کیلوگرم</td>\n",
       "    </tr>\n",
       "    <tr>\n",
       "      <th>1</th>\n",
       "      <td>-</td>\n",
       "      <td>آگاه</td>\n",
       "      <td>1402/10/03</td>\n",
       "      <td>سیمان تیپ2</td>\n",
       "      <td>ESTC-CEMENT2B-00</td>\n",
       "      <td>تالار سیمان</td>\n",
       "      <td>سیمان استهبان</td>\n",
       "      <td>مجتمع صنعتی سیمان استهبان</td>\n",
       "      <td>4004</td>\n",
       "      <td>40</td>\n",
       "      <td>7837</td>\n",
       "      <td>10</td>\n",
       "      <td>انبار کارخانه</td>\n",
       "      <td>ریال</td>\n",
       "      <td>1000 کیلوگرم</td>\n",
       "    </tr>\n",
       "    <tr>\n",
       "      <th>2</th>\n",
       "      <td>-</td>\n",
       "      <td>آگاه</td>\n",
       "      <td>1402/10/03</td>\n",
       "      <td>سیمان تیپ 2/کیسه50</td>\n",
       "      <td>AAK-CEMENT2-50L-00</td>\n",
       "      <td>تالار سیمان</td>\n",
       "      <td>سیمان آذر آبادگان خوی</td>\n",
       "      <td>کارخانه سیمان آذر آبادگان خوی</td>\n",
       "      <td>10000</td>\n",
       "      <td>40</td>\n",
       "      <td>9708</td>\n",
       "      <td>10</td>\n",
       "      <td>انبار کارخانه</td>\n",
       "      <td>ریال</td>\n",
       "      <td>1000 کیلوگرم</td>\n",
       "    </tr>\n",
       "    <tr>\n",
       "      <th>3</th>\n",
       "      <td>-</td>\n",
       "      <td>آگاه</td>\n",
       "      <td>1402/10/03</td>\n",
       "      <td>سیمان تیپ2</td>\n",
       "      <td>AAK-CEMENT2B-00</td>\n",
       "      <td>تالار سیمان</td>\n",
       "      <td>سیمان آذر آبادگان خوی</td>\n",
       "      <td>کارخانه سیمان آذر آبادگان خوی</td>\n",
       "      <td>5000</td>\n",
       "      <td>40</td>\n",
       "      <td>8878</td>\n",
       "      <td>10</td>\n",
       "      <td>انبار کارخانه</td>\n",
       "      <td>ریال</td>\n",
       "      <td>1000 کیلوگرم</td>\n",
       "    </tr>\n",
       "    <tr>\n",
       "      <th>4</th>\n",
       "      <td>-</td>\n",
       "      <td>آگاه</td>\n",
       "      <td>1402/10/03</td>\n",
       "      <td>سیمان تیپ 425-1/کیسه50</td>\n",
       "      <td>AAK-CEMENT425-50L-00</td>\n",
       "      <td>تالار سیمان</td>\n",
       "      <td>سیمان آذر آبادگان خوی</td>\n",
       "      <td>کارخانه سیمان آذر آبادگان خوی</td>\n",
       "      <td>3000</td>\n",
       "      <td>40</td>\n",
       "      <td>9498</td>\n",
       "      <td>10</td>\n",
       "      <td>انبار کارخانه</td>\n",
       "      <td>ریال</td>\n",
       "      <td>1000 کیلوگرم</td>\n",
       "    </tr>\n",
       "    <tr>\n",
       "      <th>...</th>\n",
       "      <td>...</td>\n",
       "      <td>...</td>\n",
       "      <td>...</td>\n",
       "      <td>...</td>\n",
       "      <td>...</td>\n",
       "      <td>...</td>\n",
       "      <td>...</td>\n",
       "      <td>...</td>\n",
       "      <td>...</td>\n",
       "      <td>...</td>\n",
       "      <td>...</td>\n",
       "      <td>...</td>\n",
       "      <td>...</td>\n",
       "      <td>...</td>\n",
       "      <td>...</td>\n",
       "    </tr>\n",
       "    <tr>\n",
       "      <th>12818</th>\n",
       "      <td>-</td>\n",
       "      <td>صبا تأمین</td>\n",
       "      <td>1402/11/01</td>\n",
       "      <td>سیمان تیپ 2/کیسه50</td>\n",
       "      <td>ZCC-CEMENT2-50L-00</td>\n",
       "      <td>تالار سیمان</td>\n",
       "      <td>سیمان زنجان</td>\n",
       "      <td>شرکت سیمان زنجان</td>\n",
       "      <td>1000</td>\n",
       "      <td>100</td>\n",
       "      <td>9228</td>\n",
       "      <td>10</td>\n",
       "      <td>انبار کارخانه</td>\n",
       "      <td>ریال</td>\n",
       "      <td>1000 کیلوگرم</td>\n",
       "    </tr>\n",
       "    <tr>\n",
       "      <th>12819</th>\n",
       "      <td>-</td>\n",
       "      <td>صبا تأمین</td>\n",
       "      <td>1402/11/01</td>\n",
       "      <td>سیمان تیپ2</td>\n",
       "      <td>GHCO-CEMENT2B-00</td>\n",
       "      <td>تالار سیمان</td>\n",
       "      <td>سیمان قائن</td>\n",
       "      <td>شرکت سیمان قاین</td>\n",
       "      <td>6400</td>\n",
       "      <td>40</td>\n",
       "      <td>6380</td>\n",
       "      <td>10</td>\n",
       "      <td>انبار کارخانه</td>\n",
       "      <td>ریال</td>\n",
       "      <td>1000 کیلوگرم</td>\n",
       "    </tr>\n",
       "    <tr>\n",
       "      <th>12820</th>\n",
       "      <td>-</td>\n",
       "      <td>صبا تأمین</td>\n",
       "      <td>1402/11/01</td>\n",
       "      <td>سیمان تیپ 2/کیسه50</td>\n",
       "      <td>GHCO-CEMENT2-50L-00</td>\n",
       "      <td>تالار سیمان</td>\n",
       "      <td>سیمان قائن</td>\n",
       "      <td>شرکت سیمان قاین</td>\n",
       "      <td>2200</td>\n",
       "      <td>100</td>\n",
       "      <td>8298</td>\n",
       "      <td>10</td>\n",
       "      <td>انبار کارخانه</td>\n",
       "      <td>ریال</td>\n",
       "      <td>1000 کیلوگرم</td>\n",
       "    </tr>\n",
       "    <tr>\n",
       "      <th>12821</th>\n",
       "      <td>-</td>\n",
       "      <td>صبا تأمین</td>\n",
       "      <td>1402/11/01</td>\n",
       "      <td>سیمان تیپ 325-1</td>\n",
       "      <td>GHCO-CEMENT325B-00</td>\n",
       "      <td>تالار سیمان</td>\n",
       "      <td>سیمان قائن</td>\n",
       "      <td>شرکت سیمان قاین</td>\n",
       "      <td>2200</td>\n",
       "      <td>40</td>\n",
       "      <td>6216</td>\n",
       "      <td>10</td>\n",
       "      <td>انبار کارخانه</td>\n",
       "      <td>ریال</td>\n",
       "      <td>1000 کیلوگرم</td>\n",
       "    </tr>\n",
       "    <tr>\n",
       "      <th>12822</th>\n",
       "      <td>-</td>\n",
       "      <td>صبا تأمین</td>\n",
       "      <td>1402/11/01</td>\n",
       "      <td>سیمان تیپ 325-1/کیسه50</td>\n",
       "      <td>GHCO-CEMENT325-50L-00</td>\n",
       "      <td>تالار سیمان</td>\n",
       "      <td>سیمان قائن</td>\n",
       "      <td>شرکت سیمان قاین</td>\n",
       "      <td>2500</td>\n",
       "      <td>40</td>\n",
       "      <td>8134</td>\n",
       "      <td>10</td>\n",
       "      <td>انبار کارخانه</td>\n",
       "      <td>ریال</td>\n",
       "      <td>1000 کیلوگرم</td>\n",
       "    </tr>\n",
       "  </tbody>\n",
       "</table>\n",
       "<p>12823 rows × 15 columns</p>\n",
       "</div>"
      ],
      "text/plain": [
       "      پیوست    کارگزار  تاریخ عرضه                نام کالا  \\\n",
       "0         -       آگاه  1402/10/03      سیمان تیپ 2/کیسه50   \n",
       "1         -       آگاه  1402/10/03              سیمان تیپ2   \n",
       "2         -       آگاه  1402/10/03      سیمان تیپ 2/کیسه50   \n",
       "3         -       آگاه  1402/10/03              سیمان تیپ2   \n",
       "4         -       آگاه  1402/10/03  سیمان تیپ 425-1/کیسه50   \n",
       "...     ...        ...         ...                     ...   \n",
       "12818     -  صبا تأمین  1402/11/01      سیمان تیپ 2/کیسه50   \n",
       "12819     -  صبا تأمین  1402/11/01              سیمان تیپ2   \n",
       "12820     -  صبا تأمین  1402/11/01      سیمان تیپ 2/کیسه50   \n",
       "12821     -  صبا تأمین  1402/11/01         سیمان تیپ 325-1   \n",
       "12822     -  صبا تأمین  1402/11/01  سیمان تیپ 325-1/کیسه50   \n",
       "\n",
       "                        نماد        تالار            تولید کننده  \\\n",
       "0        ESTC-CEMENT2-50L-00  تالار سیمان          سیمان استهبان   \n",
       "1           ESTC-CEMENT2B-00  تالار سیمان          سیمان استهبان   \n",
       "2         AAK-CEMENT2-50L-00  تالار سیمان  سیمان آذر آبادگان خوی   \n",
       "3            AAK-CEMENT2B-00  تالار سیمان  سیمان آذر آبادگان خوی   \n",
       "4       AAK-CEMENT425-50L-00  تالار سیمان  سیمان آذر آبادگان خوی   \n",
       "...                      ...          ...                    ...   \n",
       "12818     ZCC-CEMENT2-50L-00  تالار سیمان            سیمان زنجان   \n",
       "12819       GHCO-CEMENT2B-00  تالار سیمان             سیمان قائن   \n",
       "12820    GHCO-CEMENT2-50L-00  تالار سیمان             سیمان قائن   \n",
       "12821     GHCO-CEMENT325B-00  تالار سیمان             سیمان قائن   \n",
       "12822  GHCO-CEMENT325-50L-00  تالار سیمان             سیمان قائن   \n",
       "\n",
       "                          عرضه کننده  حجم کالای قابل عرضه  حداقل عرضه  \\\n",
       "0          مجتمع صنعتی سیمان استهبان                 1014          40   \n",
       "1          مجتمع صنعتی سیمان استهبان                 4004          40   \n",
       "2      کارخانه سیمان آذر آبادگان خوی                10000          40   \n",
       "3      کارخانه سیمان آذر آبادگان خوی                 5000          40   \n",
       "4      کارخانه سیمان آذر آبادگان خوی                 3000          40   \n",
       "...                              ...                  ...         ...   \n",
       "12818               شرکت سیمان زنجان                 1000         100   \n",
       "12819                شرکت سیمان قاین                 6400          40   \n",
       "12820                شرکت سیمان قاین                 2200         100   \n",
       "12821                شرکت سیمان قاین                 2200          40   \n",
       "12822                شرکت سیمان قاین                 2500          40   \n",
       "\n",
       "       قیمت پایه  درصد پیش پرداخت سفارش خرید     مکان تحویل نوع ارز  \\\n",
       "0           9212                          10  انبار کارخانه    ریال   \n",
       "1           7837                          10  انبار کارخانه    ریال   \n",
       "2           9708                          10  انبار کارخانه    ریال   \n",
       "3           8878                          10  انبار کارخانه    ریال   \n",
       "4           9498                          10  انبار کارخانه    ریال   \n",
       "...          ...                         ...            ...     ...   \n",
       "12818       9228                          10  انبار کارخانه    ریال   \n",
       "12819       6380                          10  انبار کارخانه    ریال   \n",
       "12820       8298                          10  انبار کارخانه    ریال   \n",
       "12821       6216                          10  انبار کارخانه    ریال   \n",
       "12822       8134                          10  انبار کارخانه    ریال   \n",
       "\n",
       "               واحد  \n",
       "0      1000 کیلوگرم  \n",
       "1      1000 کیلوگرم  \n",
       "2      1000 کیلوگرم  \n",
       "3      1000 کیلوگرم  \n",
       "4      1000 کیلوگرم  \n",
       "...             ...  \n",
       "12818  1000 کیلوگرم  \n",
       "12819  1000 کیلوگرم  \n",
       "12820  1000 کیلوگرم  \n",
       "12821  1000 کیلوگرم  \n",
       "12822  1000 کیلوگرم  \n",
       "\n",
       "[12823 rows x 15 columns]"
      ]
     },
     "execution_count": 148,
     "metadata": {},
     "output_type": "execute_result"
    }
   ],
   "source": [
    "pd.read_sql_query(f\"SELECT * FROM {the_table_1} \",con=con)"
   ]
  },
  {
   "cell_type": "code",
   "execution_count": null,
   "metadata": {},
   "outputs": [],
   "source": []
  },
  {
   "cell_type": "code",
   "execution_count": null,
   "metadata": {},
   "outputs": [],
   "source": []
  },
  {
   "cell_type": "code",
   "execution_count": null,
   "metadata": {},
   "outputs": [],
   "source": []
  }
 ],
 "metadata": {
  "kernelspec": {
   "display_name": "Python 3 (ipykernel)",
   "language": "python",
   "name": "python3"
  },
  "language_info": {
   "codemirror_mode": {
    "name": "ipython",
    "version": 3
   },
   "file_extension": ".py",
   "mimetype": "text/x-python",
   "name": "python",
   "nbconvert_exporter": "python",
   "pygments_lexer": "ipython3",
   "version": "3.8.10"
  }
 },
 "nbformat": 4,
 "nbformat_minor": 4
}
